{
 "cells": [
  {
   "cell_type": "markdown",
   "metadata": {},
   "source": [
    "## Fama-French Three-Factor Model Implementation\n",
    "\n",
    "### Author: Jay Parmar\n",
    "\n",
    "#### Date: 19th Aug 2021"
   ]
  },
  {
   "cell_type": "markdown",
   "metadata": {},
   "source": [
    "This notebook demonstrates the implementation of a Fama-French Three-Factor model on an Indian stock. The steps for the same are as follows:\n",
    "\n",
    "1. Read libraries\n",
    "2. Define stock name, start and end date\n",
    "3. Download stock historical data\n",
    "4. Resample it to monthly data\n",
    "5. Calculate stock monthly returns\n",
    "6. Read factors data and perform data conversion\n",
    "7. Merge stock returns and factors data\n",
    "8. Calculate stock excess returns\n",
    "9. Create a regression model\n",
    "10. Analyze regression output\n",
    "11. Calculate expected stock returns."
   ]
  },
  {
   "cell_type": "markdown",
   "metadata": {},
   "source": [
    "The Fama-French Three-Factor Model is an extension of the Capital Asset Pricing Model(CAPM). It aims to describe stock returns through three factors listed below:\n",
    "- Market risk taken by an investor\n",
    "- The outperformance of small-cap companies relative to large-cap companies\n",
    "- The outperformance of high book-to-market value companies versus low book-to-market value companies\n",
    "\n",
    "It is defined by the following equation:\n",
    "\n",
    "$$ E(R_i)\\ =\\ R_f\\ +\\ \\beta_1\\ *\\ (R_m\\ -\\ R_f)\\ +\\ \\beta_2\\ *\\ (SMB)\\ +\\ \\beta_3\\ (HML)\\ +\\ \\epsilon $$\n",
    "\n",
    "Where,\n",
    "\n",
    "$ R_i $ = Expected stock returns <br>\n",
    "$ R_f $ = Risk-free rate <br>\n",
    "$ \\beta $ = Beta (co-efficient) of the each factor <br>\n",
    "$ (R_m\\ -\\ R_f) $ = Market risk premium <br>\n",
    "$ SMB(Small\\ Minus\\ Big) $ = Historical excess returns of small companies over big companies <br>\n",
    "$ HML(High\\ Minus\\ Low) $ = Historical excess returns of value stocks over growth stocks <br>"
   ]
  },
  {
   "cell_type": "markdown",
   "metadata": {},
   "source": [
    "We start with importing necessary libraries."
   ]
  },
  {
   "cell_type": "code",
   "execution_count": 1,
   "metadata": {},
   "outputs": [],
   "source": [
    "# Import required libraries\n",
    "import pandas as pd\n",
    "import yfinance as yf\n",
    "import statsmodels.api as sm"
   ]
  },
  {
   "cell_type": "markdown",
   "metadata": {},
   "source": [
    "Next, we define a stock for which we want to calculate expected returns. We perform modeling on four years of data starting from 1st Jan 2015."
   ]
  },
  {
   "cell_type": "code",
   "execution_count": 2,
   "metadata": {},
   "outputs": [],
   "source": [
    "# Define stock, start date and end date\n",
    "stock = 'TCS.NS'\n",
    "\n",
    "start_date = '2015-01-01'\n",
    "end_date = '2019-12-31'"
   ]
  },
  {
   "cell_type": "markdown",
   "metadata": {},
   "source": [
    "I use `yfinance` library to download historical stock data. I use `Adj Close` prices for computing returns. I intend to perform analysis on the monthly data. Hence, the following code downloads and resamples the daily data to monthly data."
   ]
  },
  {
   "cell_type": "code",
   "execution_count": 3,
   "metadata": {},
   "outputs": [
    {
     "name": "stdout",
     "output_type": "stream",
     "text": [
      "[*********************100%***********************]  1 of 1 completed\n"
     ]
    },
    {
     "data": {
      "text/html": [
       "<div>\n",
       "<style scoped>\n",
       "    .dataframe tbody tr th:only-of-type {\n",
       "        vertical-align: middle;\n",
       "    }\n",
       "\n",
       "    .dataframe tbody tr th {\n",
       "        vertical-align: top;\n",
       "    }\n",
       "\n",
       "    .dataframe thead th {\n",
       "        text-align: right;\n",
       "    }\n",
       "</style>\n",
       "<table border=\"1\" class=\"dataframe\">\n",
       "  <thead>\n",
       "    <tr style=\"text-align: right;\">\n",
       "      <th></th>\n",
       "      <th>Adj Close</th>\n",
       "    </tr>\n",
       "    <tr>\n",
       "      <th>Date</th>\n",
       "      <th></th>\n",
       "    </tr>\n",
       "  </thead>\n",
       "  <tbody>\n",
       "    <tr>\n",
       "      <th>2015-01-31</th>\n",
       "      <td>1089.272339</td>\n",
       "    </tr>\n",
       "    <tr>\n",
       "      <th>2015-02-28</th>\n",
       "      <td>1168.399048</td>\n",
       "    </tr>\n",
       "    <tr>\n",
       "      <th>2015-03-31</th>\n",
       "      <td>1120.826904</td>\n",
       "    </tr>\n",
       "    <tr>\n",
       "      <th>2015-04-30</th>\n",
       "      <td>1081.219360</td>\n",
       "    </tr>\n",
       "    <tr>\n",
       "      <th>2015-05-31</th>\n",
       "      <td>1145.556152</td>\n",
       "    </tr>\n",
       "  </tbody>\n",
       "</table>\n",
       "</div>"
      ],
      "text/plain": [
       "              Adj Close\n",
       "Date                   \n",
       "2015-01-31  1089.272339\n",
       "2015-02-28  1168.399048\n",
       "2015-03-31  1120.826904\n",
       "2015-04-30  1081.219360\n",
       "2015-05-31  1145.556152"
      ]
     },
     "execution_count": 3,
     "metadata": {},
     "output_type": "execute_result"
    }
   ],
   "source": [
    "# Download stock data and resample it to monthly frequency\n",
    "stock_data = yf.download(stock, start_date, end_date)\n",
    "\n",
    "resampled_data = stock_data[['Adj Close']].resample('M').last()\n",
    "\n",
    "resampled_data.head()"
   ]
  },
  {
   "cell_type": "markdown",
   "metadata": {},
   "source": [
    "Calculate stock returns (percentage returns) and rename the column for easy understanding."
   ]
  },
  {
   "cell_type": "code",
   "execution_count": 4,
   "metadata": {},
   "outputs": [
    {
     "data": {
      "text/html": [
       "<div>\n",
       "<style scoped>\n",
       "    .dataframe tbody tr th:only-of-type {\n",
       "        vertical-align: middle;\n",
       "    }\n",
       "\n",
       "    .dataframe tbody tr th {\n",
       "        vertical-align: top;\n",
       "    }\n",
       "\n",
       "    .dataframe thead th {\n",
       "        text-align: right;\n",
       "    }\n",
       "</style>\n",
       "<table border=\"1\" class=\"dataframe\">\n",
       "  <thead>\n",
       "    <tr style=\"text-align: right;\">\n",
       "      <th></th>\n",
       "      <th>asset_returns</th>\n",
       "    </tr>\n",
       "    <tr>\n",
       "      <th>Date</th>\n",
       "      <th></th>\n",
       "    </tr>\n",
       "  </thead>\n",
       "  <tbody>\n",
       "    <tr>\n",
       "      <th>2015-02-28</th>\n",
       "      <td>0.072642</td>\n",
       "    </tr>\n",
       "    <tr>\n",
       "      <th>2015-03-31</th>\n",
       "      <td>-0.040716</td>\n",
       "    </tr>\n",
       "    <tr>\n",
       "      <th>2015-04-30</th>\n",
       "      <td>-0.035338</td>\n",
       "    </tr>\n",
       "    <tr>\n",
       "      <th>2015-05-31</th>\n",
       "      <td>0.059504</td>\n",
       "    </tr>\n",
       "    <tr>\n",
       "      <th>2015-06-30</th>\n",
       "      <td>-0.013652</td>\n",
       "    </tr>\n",
       "  </tbody>\n",
       "</table>\n",
       "</div>"
      ],
      "text/plain": [
       "            asset_returns\n",
       "Date                     \n",
       "2015-02-28       0.072642\n",
       "2015-03-31      -0.040716\n",
       "2015-04-30      -0.035338\n",
       "2015-05-31       0.059504\n",
       "2015-06-30      -0.013652"
      ]
     },
     "execution_count": 4,
     "metadata": {},
     "output_type": "execute_result"
    }
   ],
   "source": [
    "# Calculate monthly returns and rename the column\n",
    "stock_returns = resampled_data.rename(columns={'Adj Close': 'asset_returns'}).pct_change().dropna()\n",
    "\n",
    "stock_returns.head()"
   ]
  },
  {
   "cell_type": "markdown",
   "metadata": {},
   "source": [
    "Add a new column that contains year and month, and covert its type to integer. We will use this newly created column as a key to merge two dataframes in the code going forward."
   ]
  },
  {
   "cell_type": "code",
   "execution_count": 5,
   "metadata": {},
   "outputs": [
    {
     "data": {
      "text/html": [
       "<div>\n",
       "<style scoped>\n",
       "    .dataframe tbody tr th:only-of-type {\n",
       "        vertical-align: middle;\n",
       "    }\n",
       "\n",
       "    .dataframe tbody tr th {\n",
       "        vertical-align: top;\n",
       "    }\n",
       "\n",
       "    .dataframe thead th {\n",
       "        text-align: right;\n",
       "    }\n",
       "</style>\n",
       "<table border=\"1\" class=\"dataframe\">\n",
       "  <thead>\n",
       "    <tr style=\"text-align: right;\">\n",
       "      <th></th>\n",
       "      <th>asset_returns</th>\n",
       "      <th>month</th>\n",
       "    </tr>\n",
       "    <tr>\n",
       "      <th>Date</th>\n",
       "      <th></th>\n",
       "      <th></th>\n",
       "    </tr>\n",
       "  </thead>\n",
       "  <tbody>\n",
       "    <tr>\n",
       "      <th>2015-02-28</th>\n",
       "      <td>0.072642</td>\n",
       "      <td>201502</td>\n",
       "    </tr>\n",
       "    <tr>\n",
       "      <th>2015-03-31</th>\n",
       "      <td>-0.040716</td>\n",
       "      <td>201503</td>\n",
       "    </tr>\n",
       "    <tr>\n",
       "      <th>2015-04-30</th>\n",
       "      <td>-0.035338</td>\n",
       "      <td>201504</td>\n",
       "    </tr>\n",
       "    <tr>\n",
       "      <th>2015-05-31</th>\n",
       "      <td>0.059504</td>\n",
       "      <td>201505</td>\n",
       "    </tr>\n",
       "    <tr>\n",
       "      <th>2015-06-30</th>\n",
       "      <td>-0.013652</td>\n",
       "      <td>201506</td>\n",
       "    </tr>\n",
       "  </tbody>\n",
       "</table>\n",
       "</div>"
      ],
      "text/plain": [
       "            asset_returns   month\n",
       "Date                             \n",
       "2015-02-28       0.072642  201502\n",
       "2015-03-31      -0.040716  201503\n",
       "2015-04-30      -0.035338  201504\n",
       "2015-05-31       0.059504  201505\n",
       "2015-06-30      -0.013652  201506"
      ]
     },
     "execution_count": 5,
     "metadata": {},
     "output_type": "execute_result"
    }
   ],
   "source": [
    "# Create a new column to store months and convert its type to integer\n",
    "stock_returns['month'] = stock_returns.index.strftime('%Y%m').astype('int')\n",
    "\n",
    "stock_returns.head()"
   ]
  },
  {
   "cell_type": "markdown",
   "metadata": {},
   "source": [
    "Next, we read the factors data. I have used factors data provided by [Fama French and Momentum Factors: Data Library for Indian Market](http://faculty.iima.ac.in/~iffm/Indian-Fama-French-Momentum/)."
   ]
  },
  {
   "cell_type": "code",
   "execution_count": 6,
   "metadata": {},
   "outputs": [
    {
     "data": {
      "text/html": [
       "<div>\n",
       "<style scoped>\n",
       "    .dataframe tbody tr th:only-of-type {\n",
       "        vertical-align: middle;\n",
       "    }\n",
       "\n",
       "    .dataframe tbody tr th {\n",
       "        vertical-align: top;\n",
       "    }\n",
       "\n",
       "    .dataframe thead th {\n",
       "        text-align: right;\n",
       "    }\n",
       "</style>\n",
       "<table border=\"1\" class=\"dataframe\">\n",
       "  <thead>\n",
       "    <tr style=\"text-align: right;\">\n",
       "      <th></th>\n",
       "      <th>Month</th>\n",
       "      <th>SMB %</th>\n",
       "      <th>HML %</th>\n",
       "      <th>WML %</th>\n",
       "      <th>Rm %</th>\n",
       "      <th>Rf %</th>\n",
       "      <th>Rm-Rf %</th>\n",
       "    </tr>\n",
       "  </thead>\n",
       "  <tbody>\n",
       "    <tr>\n",
       "      <th>0</th>\n",
       "      <td>199310</td>\n",
       "      <td>1.743275</td>\n",
       "      <td>2.336015</td>\n",
       "      <td>5.472541</td>\n",
       "      <td>-1.431621</td>\n",
       "      <td>0.539989</td>\n",
       "      <td>-1.961665</td>\n",
       "    </tr>\n",
       "    <tr>\n",
       "      <th>1</th>\n",
       "      <td>199311</td>\n",
       "      <td>-9.550885</td>\n",
       "      <td>-0.495425</td>\n",
       "      <td>13.678909</td>\n",
       "      <td>17.356034</td>\n",
       "      <td>0.542141</td>\n",
       "      <td>16.728924</td>\n",
       "    </tr>\n",
       "    <tr>\n",
       "      <th>2</th>\n",
       "      <td>199312</td>\n",
       "      <td>-3.223633</td>\n",
       "      <td>8.570654</td>\n",
       "      <td>0.178863</td>\n",
       "      <td>10.726437</td>\n",
       "      <td>0.325955</td>\n",
       "      <td>10.370179</td>\n",
       "    </tr>\n",
       "    <tr>\n",
       "      <th>3</th>\n",
       "      <td>199401</td>\n",
       "      <td>5.183124</td>\n",
       "      <td>-6.113533</td>\n",
       "      <td>-3.875920</td>\n",
       "      <td>20.376547</td>\n",
       "      <td>0.599581</td>\n",
       "      <td>19.665489</td>\n",
       "    </tr>\n",
       "    <tr>\n",
       "      <th>4</th>\n",
       "      <td>199402</td>\n",
       "      <td>0.825280</td>\n",
       "      <td>-3.145383</td>\n",
       "      <td>10.144933</td>\n",
       "      <td>4.356845</td>\n",
       "      <td>0.650502</td>\n",
       "      <td>3.683473</td>\n",
       "    </tr>\n",
       "  </tbody>\n",
       "</table>\n",
       "</div>"
      ],
      "text/plain": [
       "    Month     SMB %     HML %      WML %       Rm %      Rf %    Rm-Rf %\n",
       "0  199310  1.743275  2.336015   5.472541  -1.431621  0.539989  -1.961665\n",
       "1  199311 -9.550885 -0.495425  13.678909  17.356034  0.542141  16.728924\n",
       "2  199312 -3.223633  8.570654   0.178863  10.726437  0.325955  10.370179\n",
       "3  199401  5.183124 -6.113533  -3.875920  20.376547  0.599581  19.665489\n",
       "4  199402  0.825280 -3.145383  10.144933   4.356845  0.650502   3.683473"
      ]
     },
     "execution_count": 6,
     "metadata": {},
     "output_type": "execute_result"
    }
   ],
   "source": [
    "# Read factors data\n",
    "factors_data = pd.read_csv('FourFactorsData.csv')\n",
    "\n",
    "factors_data.head()"
   ]
  },
  {
   "cell_type": "markdown",
   "metadata": {},
   "source": [
    "The factors data is represented in the percent form in the dataframe above. We need to convert it as we have stock monthly returns in the decimal format. The following code does that:"
   ]
  },
  {
   "cell_type": "code",
   "execution_count": 7,
   "metadata": {},
   "outputs": [],
   "source": [
    "# Convert percent values to decimal values\n",
    "def convert(x):\n",
    "    return x/100\n",
    "\n",
    "factors_data_d = factors_data[['SMB %', 'HML %', 'WML %', 'Rm %', 'Rf %', 'Rm-Rf %']].apply(convert)"
   ]
  },
  {
   "cell_type": "markdown",
   "metadata": {},
   "source": [
    "Rename columns for factor data to make working with them easier."
   ]
  },
  {
   "cell_type": "code",
   "execution_count": 8,
   "metadata": {},
   "outputs": [
    {
     "data": {
      "text/html": [
       "<div>\n",
       "<style scoped>\n",
       "    .dataframe tbody tr th:only-of-type {\n",
       "        vertical-align: middle;\n",
       "    }\n",
       "\n",
       "    .dataframe tbody tr th {\n",
       "        vertical-align: top;\n",
       "    }\n",
       "\n",
       "    .dataframe thead th {\n",
       "        text-align: right;\n",
       "    }\n",
       "</style>\n",
       "<table border=\"1\" class=\"dataframe\">\n",
       "  <thead>\n",
       "    <tr style=\"text-align: right;\">\n",
       "      <th></th>\n",
       "      <th>smb</th>\n",
       "      <th>hml</th>\n",
       "      <th>wml</th>\n",
       "      <th>rm</th>\n",
       "      <th>rf</th>\n",
       "      <th>mkt_er</th>\n",
       "      <th>Month</th>\n",
       "    </tr>\n",
       "  </thead>\n",
       "  <tbody>\n",
       "    <tr>\n",
       "      <th>0</th>\n",
       "      <td>0.017433</td>\n",
       "      <td>0.023360</td>\n",
       "      <td>0.054725</td>\n",
       "      <td>-0.014316</td>\n",
       "      <td>0.005400</td>\n",
       "      <td>-0.019617</td>\n",
       "      <td>199310</td>\n",
       "    </tr>\n",
       "    <tr>\n",
       "      <th>1</th>\n",
       "      <td>-0.095509</td>\n",
       "      <td>-0.004954</td>\n",
       "      <td>0.136789</td>\n",
       "      <td>0.173560</td>\n",
       "      <td>0.005421</td>\n",
       "      <td>0.167289</td>\n",
       "      <td>199311</td>\n",
       "    </tr>\n",
       "    <tr>\n",
       "      <th>2</th>\n",
       "      <td>-0.032236</td>\n",
       "      <td>0.085707</td>\n",
       "      <td>0.001789</td>\n",
       "      <td>0.107264</td>\n",
       "      <td>0.003260</td>\n",
       "      <td>0.103702</td>\n",
       "      <td>199312</td>\n",
       "    </tr>\n",
       "    <tr>\n",
       "      <th>3</th>\n",
       "      <td>0.051831</td>\n",
       "      <td>-0.061135</td>\n",
       "      <td>-0.038759</td>\n",
       "      <td>0.203765</td>\n",
       "      <td>0.005996</td>\n",
       "      <td>0.196655</td>\n",
       "      <td>199401</td>\n",
       "    </tr>\n",
       "    <tr>\n",
       "      <th>4</th>\n",
       "      <td>0.008253</td>\n",
       "      <td>-0.031454</td>\n",
       "      <td>0.101449</td>\n",
       "      <td>0.043568</td>\n",
       "      <td>0.006505</td>\n",
       "      <td>0.036835</td>\n",
       "      <td>199402</td>\n",
       "    </tr>\n",
       "  </tbody>\n",
       "</table>\n",
       "</div>"
      ],
      "text/plain": [
       "        smb       hml       wml        rm        rf    mkt_er   Month\n",
       "0  0.017433  0.023360  0.054725 -0.014316  0.005400 -0.019617  199310\n",
       "1 -0.095509 -0.004954  0.136789  0.173560  0.005421  0.167289  199311\n",
       "2 -0.032236  0.085707  0.001789  0.107264  0.003260  0.103702  199312\n",
       "3  0.051831 -0.061135 -0.038759  0.203765  0.005996  0.196655  199401\n",
       "4  0.008253 -0.031454  0.101449  0.043568  0.006505  0.036835  199402"
      ]
     },
     "execution_count": 8,
     "metadata": {},
     "output_type": "execute_result"
    }
   ],
   "source": [
    "# Rename columns and add month column\n",
    "factors_data_d.columns = ['smb', 'hml', 'wml', 'rm', 'rf', 'mkt_er']\n",
    "factors_data_d['Month'] = factors_data['Month']\n",
    "\n",
    "factors_data_d.head()"
   ]
  },
  {
   "cell_type": "markdown",
   "metadata": {},
   "source": [
    "Merge factors data and stock returns dataframes on months. We do this to get combine stock returns and factors data for whatever months of stock data we have. We will perform modeling on the merged output."
   ]
  },
  {
   "cell_type": "code",
   "execution_count": 9,
   "metadata": {},
   "outputs": [
    {
     "data": {
      "text/html": [
       "<div>\n",
       "<style scoped>\n",
       "    .dataframe tbody tr th:only-of-type {\n",
       "        vertical-align: middle;\n",
       "    }\n",
       "\n",
       "    .dataframe tbody tr th {\n",
       "        vertical-align: top;\n",
       "    }\n",
       "\n",
       "    .dataframe thead th {\n",
       "        text-align: right;\n",
       "    }\n",
       "</style>\n",
       "<table border=\"1\" class=\"dataframe\">\n",
       "  <thead>\n",
       "    <tr style=\"text-align: right;\">\n",
       "      <th></th>\n",
       "      <th>asset_returns</th>\n",
       "      <th>month</th>\n",
       "      <th>smb</th>\n",
       "      <th>hml</th>\n",
       "      <th>wml</th>\n",
       "      <th>rm</th>\n",
       "      <th>rf</th>\n",
       "      <th>mkt_er</th>\n",
       "      <th>Month</th>\n",
       "    </tr>\n",
       "  </thead>\n",
       "  <tbody>\n",
       "    <tr>\n",
       "      <th>0</th>\n",
       "      <td>0.072642</td>\n",
       "      <td>201502</td>\n",
       "      <td>0.008015</td>\n",
       "      <td>-0.027601</td>\n",
       "      <td>-0.001335</td>\n",
       "      <td>0.010451</td>\n",
       "      <td>0.006398</td>\n",
       "      <td>0.004029</td>\n",
       "      <td>201502</td>\n",
       "    </tr>\n",
       "    <tr>\n",
       "      <th>1</th>\n",
       "      <td>-0.040716</td>\n",
       "      <td>201503</td>\n",
       "      <td>0.026750</td>\n",
       "      <td>-0.081992</td>\n",
       "      <td>0.050160</td>\n",
       "      <td>-0.028614</td>\n",
       "      <td>0.006719</td>\n",
       "      <td>-0.035108</td>\n",
       "      <td>201503</td>\n",
       "    </tr>\n",
       "    <tr>\n",
       "      <th>2</th>\n",
       "      <td>-0.035338</td>\n",
       "      <td>201504</td>\n",
       "      <td>0.013234</td>\n",
       "      <td>0.040447</td>\n",
       "      <td>-0.013623</td>\n",
       "      <td>-0.025985</td>\n",
       "      <td>0.005802</td>\n",
       "      <td>-0.031613</td>\n",
       "      <td>201504</td>\n",
       "    </tr>\n",
       "    <tr>\n",
       "      <th>3</th>\n",
       "      <td>0.059504</td>\n",
       "      <td>201505</td>\n",
       "      <td>0.004802</td>\n",
       "      <td>-0.049373</td>\n",
       "      <td>0.033835</td>\n",
       "      <td>0.034098</td>\n",
       "      <td>0.006129</td>\n",
       "      <td>0.027807</td>\n",
       "      <td>201505</td>\n",
       "    </tr>\n",
       "    <tr>\n",
       "      <th>4</th>\n",
       "      <td>-0.013652</td>\n",
       "      <td>201506</td>\n",
       "      <td>0.048534</td>\n",
       "      <td>-0.080069</td>\n",
       "      <td>0.017100</td>\n",
       "      <td>-0.010585</td>\n",
       "      <td>0.006559</td>\n",
       "      <td>-0.017038</td>\n",
       "      <td>201506</td>\n",
       "    </tr>\n",
       "  </tbody>\n",
       "</table>\n",
       "</div>"
      ],
      "text/plain": [
       "   asset_returns   month       smb       hml       wml        rm        rf  \\\n",
       "0       0.072642  201502  0.008015 -0.027601 -0.001335  0.010451  0.006398   \n",
       "1      -0.040716  201503  0.026750 -0.081992  0.050160 -0.028614  0.006719   \n",
       "2      -0.035338  201504  0.013234  0.040447 -0.013623 -0.025985  0.005802   \n",
       "3       0.059504  201505  0.004802 -0.049373  0.033835  0.034098  0.006129   \n",
       "4      -0.013652  201506  0.048534 -0.080069  0.017100 -0.010585  0.006559   \n",
       "\n",
       "     mkt_er   Month  \n",
       "0  0.004029  201502  \n",
       "1 -0.035108  201503  \n",
       "2 -0.031613  201504  \n",
       "3  0.027807  201505  \n",
       "4 -0.017038  201506  "
      ]
     },
     "execution_count": 9,
     "metadata": {},
     "output_type": "execute_result"
    }
   ],
   "source": [
    "# Merge two dataframes and create a new one\n",
    "data = stock_returns.merge(factors_data_d, left_on='month', right_on='Month')\n",
    "\n",
    "data.head()"
   ]
  },
  {
   "cell_type": "markdown",
   "metadata": {},
   "source": [
    "We can rearrange the Fama-French Three-Factor model equation as below:\n",
    "\n",
    "$$ E(R_i)\\ -\\ R_f\\ =\\ \\beta_1\\ *\\ (R_m\\ -\\ R_f)\\ +\\ \\beta_2\\ *\\ (SMB)\\ +\\ \\beta_3\\ (HML)\\ +\\ \\epsilon $$\n",
    "\n",
    "The left side of the equation becomes our target variable which is nothing but stock excess returns. We calculate it below:"
   ]
  },
  {
   "cell_type": "code",
   "execution_count": 10,
   "metadata": {},
   "outputs": [],
   "source": [
    "# Calculate stock excess returns\n",
    "data['stock_er'] = data['asset_returns'] - data['rf']"
   ]
  },
  {
   "cell_type": "markdown",
   "metadata": {},
   "source": [
    "Define independent variables as `X` and the target variable as `y` and perform regression analysis to get co-efficient for each factor."
   ]
  },
  {
   "cell_type": "code",
   "execution_count": 11,
   "metadata": {},
   "outputs": [
    {
     "name": "stdout",
     "output_type": "stream",
     "text": [
      "                                 OLS Regression Results                                \n",
      "=======================================================================================\n",
      "Dep. Variable:               stock_er   R-squared (uncentered):                   0.367\n",
      "Model:                            OLS   Adj. R-squared (uncentered):              0.333\n",
      "Method:                 Least Squares   F-statistic:                              10.84\n",
      "Date:                Thu, 19 Aug 2021   Prob (F-statistic):                    1.02e-05\n",
      "Time:                        22:13:01   Log-Likelihood:                          89.235\n",
      "No. Observations:                  59   AIC:                                     -172.5\n",
      "Df Residuals:                      56   BIC:                                     -166.2\n",
      "Df Model:                           3                                                  \n",
      "Covariance Type:            nonrobust                                                  \n",
      "==============================================================================\n",
      "                 coef    std err          t      P>|t|      [0.025      0.975]\n",
      "------------------------------------------------------------------------------\n",
      "mkt_er         1.1117      0.209      5.312      0.000       0.693       1.531\n",
      "smb           -0.5883      0.209     -2.816      0.007      -1.007      -0.170\n",
      "hml           -0.5434      0.157     -3.461      0.001      -0.858      -0.229\n",
      "==============================================================================\n",
      "Omnibus:                        2.282   Durbin-Watson:                   2.603\n",
      "Prob(Omnibus):                  0.319   Jarque-Bera (JB):                1.591\n",
      "Skew:                           0.110   Prob(JB):                        0.451\n",
      "Kurtosis:                       3.774   Cond. No.                         1.99\n",
      "==============================================================================\n",
      "\n",
      "Warnings:\n",
      "[1] Standard Errors assume that the covariance matrix of the errors is correctly specified.\n"
     ]
    }
   ],
   "source": [
    "# Independent variables\n",
    "X = data[['mkt_er', 'smb', 'hml']]\n",
    "\n",
    "# Target variable\n",
    "y = data['stock_er']\n",
    "\n",
    "# Create a regression model\n",
    "reg = sm.OLS(y, X).fit()\n",
    "\n",
    "print(reg.summary())"
   ]
  },
  {
   "cell_type": "markdown",
   "metadata": {},
   "source": [
    "Following are the co-efficients we get from the above model."
   ]
  },
  {
   "cell_type": "code",
   "execution_count": 12,
   "metadata": {},
   "outputs": [
    {
     "name": "stdout",
     "output_type": "stream",
     "text": [
      "Beta of market excess returns=  1.11173\n",
      "Beta of SMB=  -0.58831\n",
      "Beta of HML=  -0.5434\n"
     ]
    }
   ],
   "source": [
    "# Print beta of market_excess_returns\n",
    "beta_mkt = reg.params[0]\n",
    "print('Beta of market excess returns= ', round(beta_mkt, 5))\n",
    "\n",
    "# Print beta of SMB\n",
    "beta_smb = reg.params[1]\n",
    "print('Beta of SMB= ', round(beta_smb, 5))\n",
    "\n",
    "# Print beta of HML\n",
    "beta_hml = reg.params[2]\n",
    "print('Beta of HML= ', round(beta_hml, 5))"
   ]
  },
  {
   "cell_type": "markdown",
   "metadata": {},
   "source": [
    "The following code calculates all annualized version of all factors:"
   ]
  },
  {
   "cell_type": "code",
   "execution_count": 13,
   "metadata": {},
   "outputs": [
    {
     "name": "stdout",
     "output_type": "stream",
     "text": [
      "Annualized market excess returns: 0.00796\n",
      "Annualized SMB returns: -0.00913\n",
      "Annualized HML returns: -0.12919\n"
     ]
    }
   ],
   "source": [
    "# Calculate annualized market excess returns\n",
    "ann_market_er = ((1 + data.mkt_er).cumprod().iloc[-1]) ** (12/len(data)) - 1\n",
    "\n",
    "print('Annualized market excess returns:', round(ann_market_er, 5))\n",
    "\n",
    "# Calculate annualized SMB returns\n",
    "ann_smb_returns = ((1 + data.smb).cumprod().iloc[-1]) ** (12/len(data)) - 1\n",
    "\n",
    "print('Annualized SMB returns:', round(ann_smb_returns, 5))\n",
    "\n",
    "# Calculate annualized HML returns\n",
    "ann_hml_returns = ((1 + data.hml).cumprod().iloc[-1]) ** (12/len(data)) - 1\n",
    "\n",
    "print('Annualized HML returns:', round(ann_hml_returns, 5))"
   ]
  },
  {
   "cell_type": "markdown",
   "metadata": {},
   "source": [
    "We also compute annualized risk free rate. We will require it to compute stock expected returns:"
   ]
  },
  {
   "cell_type": "code",
   "execution_count": 14,
   "metadata": {},
   "outputs": [
    {
     "name": "stdout",
     "output_type": "stream",
     "text": [
      "Annualized risk free rate: 0.06411\n"
     ]
    }
   ],
   "source": [
    "# Calculate annualized risk free rate\n",
    "ann_rfr = ((1 + data.rf).cumprod().iloc[-1]) ** (12/len(data)) - 1\n",
    "\n",
    "print('Annualized risk free rate:', round(ann_rfr, 5))"
   ]
  },
  {
   "cell_type": "markdown",
   "metadata": {},
   "source": [
    "Finally, we calculate the expected annualized returns of the stock using the following equation:\n",
    "\n",
    "$$ E(R_i)\\ =\\ R_f\\ +\\ \\beta_1\\ *\\ (R_m\\ -\\ R_f)\\ +\\ \\beta_2\\ *\\ (SMB)\\ +\\ \\beta_3\\ (HML)\\ +\\ \\epsilon $$\n",
    "\n",
    "We will ignore the error term for this computation."
   ]
  },
  {
   "cell_type": "code",
   "execution_count": 15,
   "metadata": {},
   "outputs": [
    {
     "name": "stdout",
     "output_type": "stream",
     "text": [
      "Expected annualized returns of TCS: 14.853\n"
     ]
    }
   ],
   "source": [
    "expected_returns = ann_rfr + beta_mkt * ann_market_er + beta_smb * ann_smb_returns + beta_hml * ann_hml_returns\n",
    "\n",
    "print('Expected annualized returns of TCS: %.3f' % (expected_returns * 100))"
   ]
  },
  {
   "cell_type": "markdown",
   "metadata": {},
   "source": [
    "We can see that expected returns for TCS for 1 year turned out to be 14.853% using the Fama French three factor model."
   ]
  }
 ],
 "metadata": {
  "kernelspec": {
   "display_name": "Python 3",
   "language": "python",
   "name": "python3"
  },
  "language_info": {
   "codemirror_mode": {
    "name": "ipython",
    "version": 3
   },
   "file_extension": ".py",
   "mimetype": "text/x-python",
   "name": "python",
   "nbconvert_exporter": "python",
   "pygments_lexer": "ipython3",
   "version": "3.8.3"
  },
  "varInspector": {
   "cols": {
    "lenName": 16,
    "lenType": 16,
    "lenVar": 40
   },
   "kernels_config": {
    "python": {
     "delete_cmd_postfix": "",
     "delete_cmd_prefix": "del ",
     "library": "var_list.py",
     "varRefreshCmd": "print(var_dic_list())"
    },
    "r": {
     "delete_cmd_postfix": ") ",
     "delete_cmd_prefix": "rm(",
     "library": "var_list.r",
     "varRefreshCmd": "cat(var_dic_list()) "
    }
   },
   "types_to_exclude": [
    "module",
    "function",
    "builtin_function_or_method",
    "instance",
    "_Feature"
   ],
   "window_display": false
  }
 },
 "nbformat": 4,
 "nbformat_minor": 4
}
